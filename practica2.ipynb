{
  "nbformat": 4,
  "nbformat_minor": 0,
  "metadata": {
    "colab": {
      "provenance": [],
      "collapsed_sections": []
    },
    "kernelspec": {
      "name": "python3",
      "display_name": "Python 3"
    },
    "language_info": {
      "name": "python"
    }
  },
  "cells": [
    {
      "cell_type": "code",
      "source": [
        "!help"
      ],
      "metadata": {
        "id": "I8gueXv-oSvI"
      },
      "execution_count": null,
      "outputs": []
    },
    {
      "cell_type": "code",
      "source": [
        "man find"
      ],
      "metadata": {
        "id": "GF-6pTP0oUkA"
      },
      "execution_count": 3,
      "outputs": []
    },
    {
      "cell_type": "code",
      "source": [
        "!find / -name '*.ipynb'"
      ],
      "metadata": {
        "id": "hWNHyf_bodOv"
      },
      "execution_count": 4,
      "outputs": []
    },
    {
      "cell_type": "code",
      "source": [
        "# comentario de prueba"
      ],
      "metadata": {
        "id": "274AJBbboh6O"
      },
      "execution_count": 6,
      "outputs": []
    },
    {
      "cell_type": "code",
      "source": [
        "###\n",
        "#lectura de variable por teclado\n",
        "#y conversion a tipo numerico para operar\n",
        "###\n",
        "num = input(\"Dame un numero \")\n",
        "print(\"Tu numero es \",num)\n",
        "print(\"Tu numero multiplicado por 5 es \",num*5)\n",
        "###\n",
        "#Lo convertimos a entero\n",
        "###\n",
        "num = int(num)\n",
        "print(\"Tu numero multiplicado por 5 es \",num*5)\n"
      ],
      "metadata": {
        "colab": {
          "base_uri": "https://localhost:8080/"
        },
        "id": "p6mb_DOvokY2",
        "outputId": "5e985d14-f101-4c0a-8fcb-41822fa2022d"
      },
      "execution_count": 5,
      "outputs": [
        {
          "output_type": "stream",
          "name": "stdout",
          "text": [
            "Dame un numero 7\n",
            "Tu numero es  7\n",
            "Tu numero multiplicado por 5 es  77777\n",
            "Tu numero multiplicado por 5 es  35\n"
          ]
        }
      ]
    },
    {
      "cell_type": "code",
      "source": [
        "type(num)"
      ],
      "metadata": {
        "colab": {
          "base_uri": "https://localhost:8080/"
        },
        "id": "O9ow04TGperP",
        "outputId": "7475b944-39d9-4ffb-d38b-d09692871d78"
      },
      "execution_count": 7,
      "outputs": [
        {
          "output_type": "execute_result",
          "data": {
            "text/plain": [
              "int"
            ]
          },
          "metadata": {},
          "execution_count": 7
        }
      ]
    },
    {
      "cell_type": "code",
      "source": [
        "num = 10//3\n",
        "type (num)"
      ],
      "metadata": {
        "id": "vFdCbYkBpg7F"
      },
      "execution_count": null,
      "outputs": []
    },
    {
      "cell_type": "code",
      "source": [
        "print(num)"
      ],
      "metadata": {
        "id": "KLIIT5bwpl4w"
      },
      "execution_count": null,
      "outputs": []
    },
    {
      "cell_type": "code",
      "source": [
        "num = 10/3\n",
        "print(num)\n",
        "type(num)"
      ],
      "metadata": {
        "colab": {
          "base_uri": "https://localhost:8080/"
        },
        "id": "uQihT9-kpth2",
        "outputId": "0f60d2f4-50f2-42f9-9a92-57d90b3d1cc8"
      },
      "execution_count": 13,
      "outputs": [
        {
          "output_type": "stream",
          "name": "stdout",
          "text": [
            "3.3333333333333335\n"
          ]
        },
        {
          "output_type": "execute_result",
          "data": {
            "text/plain": [
              "float"
            ]
          },
          "metadata": {},
          "execution_count": 13
        }
      ]
    },
    {
      "cell_type": "code",
      "source": [
        "num = 10%3\n",
        "print(num)"
      ],
      "metadata": {
        "id": "MMOkzOCSpo7O"
      },
      "execution_count": null,
      "outputs": []
    },
    {
      "cell_type": "code",
      "source": [
        "nombre = \"Aarón\"\n",
        "print(nombre)\n",
        "type(nombre)"
      ],
      "metadata": {
        "colab": {
          "base_uri": "https://localhost:8080/"
        },
        "id": "Y01qEsjap0KG",
        "outputId": "73d69f43-0656-4155-9ea4-2d21fb37c298"
      },
      "execution_count": 14,
      "outputs": [
        {
          "output_type": "stream",
          "name": "stdout",
          "text": [
            "Aarón\n"
          ]
        },
        {
          "output_type": "execute_result",
          "data": {
            "text/plain": [
              "str"
            ]
          },
          "metadata": {},
          "execution_count": 14
        }
      ]
    },
    {
      "cell_type": "code",
      "source": [
        "num =int(input(\"Dame un numero: \"))\n",
        "mayor = (10>num)\n",
        "print(mayor)\n",
        "type(mayor)"
      ],
      "metadata": {
        "id": "2ye6P7MUp6w4"
      },
      "execution_count": null,
      "outputs": []
    },
    {
      "cell_type": "code",
      "source": [
        "if (num == 5):\n",
        "    print(\"Tu numero es 5\")\n",
        "else:\n",
        "    print(\"Tu numero es diferente de 5\")"
      ],
      "metadata": {
        "id": "xIhSNCQoqQlJ"
      },
      "execution_count": null,
      "outputs": []
    },
    {
      "cell_type": "code",
      "source": [
        "num = int(input(\"Dame un numero: \"))\n",
        "if (num >=10 and num<=15):\n",
        "  print(\"Numero esta entre 10 y 15\")\n",
        "elif (num >15):\n",
        "  print(\"Tu numero es mayor que 15\")\n",
        "else:\n",
        "  print(\"Tu numero es menor que 10\")"
      ],
      "metadata": {
        "id": "xaj1h-qmqvY0"
      },
      "execution_count": null,
      "outputs": []
    },
    {
      "cell_type": "code",
      "source": [
        "lista = range(6)\n",
        "for i in lista:\n",
        "  print(i)"
      ],
      "metadata": {
        "colab": {
          "base_uri": "https://localhost:8080/"
        },
        "id": "N0GnJwNMrLWe",
        "outputId": "615f8a8f-565a-437e-d1e9-43afce969bfc"
      },
      "execution_count": 22,
      "outputs": [
        {
          "output_type": "stream",
          "name": "stdout",
          "text": [
            "0\n",
            "1\n",
            "2\n",
            "3\n",
            "4\n",
            "5\n"
          ]
        }
      ]
    },
    {
      "cell_type": "code",
      "source": [
        "lista = range (3,6)\n",
        "print(list(lista))\n",
        "print(\"La lista tiene\",len(lista),\"elementos\")"
      ],
      "metadata": {
        "colab": {
          "base_uri": "https://localhost:8080/"
        },
        "id": "dHwh6LvlrQee",
        "outputId": "07fe1a2f-4245-4d08-aca0-a10370568f7e"
      },
      "execution_count": 24,
      "outputs": [
        {
          "output_type": "stream",
          "name": "stdout",
          "text": [
            "[3, 4, 5]\n",
            "La lista tiene 3 elementos\n"
          ]
        }
      ]
    },
    {
      "cell_type": "code",
      "source": [
        "lista = range(3,20,2)\n",
        "list(lista)"
      ],
      "metadata": {
        "colab": {
          "base_uri": "https://localhost:8080/"
        },
        "id": "SsBQB7A8rfec",
        "outputId": "51fd8488-5480-4001-9032-bbc8d231ba92"
      },
      "execution_count": 25,
      "outputs": [
        {
          "output_type": "execute_result",
          "data": {
            "text/plain": [
              "[3, 5, 7, 9, 11, 13, 15, 17, 19]"
            ]
          },
          "metadata": {},
          "execution_count": 25
        }
      ]
    },
    {
      "cell_type": "code",
      "source": [
        "nombre=\"Aarón\"\n",
        "n_mayus=nombre.upper()\n",
        "print(n_mayus)\n",
        "len(nombre)"
      ],
      "metadata": {
        "colab": {
          "base_uri": "https://localhost:8080/"
        },
        "id": "pE1tH9cFrk19",
        "outputId": "32933296-5920-425c-b21f-079d84b4ffb8"
      },
      "execution_count": 27,
      "outputs": [
        {
          "output_type": "stream",
          "name": "stdout",
          "text": [
            "AARÓN\n"
          ]
        },
        {
          "output_type": "execute_result",
          "data": {
            "text/plain": [
              "5"
            ]
          },
          "metadata": {},
          "execution_count": 27
        }
      ]
    },
    {
      "cell_type": "code",
      "source": [
        "nombres = [\"Maria\",\"Pedro\",\"Juan\",\"Carmen\"]\n",
        "print(nombres[2])\n",
        "print(type(nombres))\n",
        "del nombres[2]\n",
        "print(nombres)\n",
        "nombres.insert(3,\"Jose\")\n",
        "print(nombres)\n",
        "print(\"Para ver la posición donde se encuentra un valor usamos index, Carmen se encuentra en la posición:\",nombres.index(\"Carmen\"))\n",
        "print(nombres)\n",
        "print(\"Para ver los elementos de la posición 1 a la 2, pongo un 3 al final\",nombres[1:3])\n",
        "nombres.append(\"Susana\")\n",
        "print(nombres)\n",
        "print(\"Para ver los elementos de 2 en 2:\",nombres[::2])\n",
        "print(\"Para ver los elementos en orden invertido uso -1:\",nombres[::-1])\n",
        "for i in nombres:\n",
        "  print(i)"
      ],
      "metadata": {
        "colab": {
          "base_uri": "https://localhost:8080/"
        },
        "id": "35aKss2hrtQg",
        "outputId": "902fa938-73bf-4984-c5c0-1bb19b54a36b"
      },
      "execution_count": 28,
      "outputs": [
        {
          "output_type": "stream",
          "name": "stdout",
          "text": [
            "Juan\n",
            "<class 'list'>\n",
            "['Maria', 'Pedro', 'Carmen']\n",
            "['Maria', 'Pedro', 'Carmen', 'Jose']\n",
            "Para ver la posición donde se encuentra un valor usamos index, Carmen se encuentra en la posición: 2\n",
            "['Maria', 'Pedro', 'Carmen', 'Jose']\n",
            "Para ver los elementos de la posición 1 a la 2, pongo un 3 al final ['Pedro', 'Carmen']\n",
            "['Maria', 'Pedro', 'Carmen', 'Jose', 'Susana']\n",
            "Para ver los elementos de 2 en 2: ['Maria', 'Carmen', 'Susana']\n",
            "Para ver los elementos en orden invertido uso -1: ['Susana', 'Jose', 'Carmen', 'Pedro', 'Maria']\n",
            "Maria\n",
            "Pedro\n",
            "Carmen\n",
            "Jose\n",
            "Susana\n"
          ]
        }
      ]
    }
  ]
}